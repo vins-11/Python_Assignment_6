{
 "cells": [
  {
   "cell_type": "markdown",
   "metadata": {
    "id": "Q_A60T1lzSRg"
   },
   "source": [
    "#### Ques 1. Create a vector with values ranging from 10 to 49 \n"
   ]
  },
  {
   "cell_type": "code",
   "execution_count": 4,
   "metadata": {},
   "outputs": [
    {
     "name": "stdout",
     "output_type": "stream",
     "text": [
      "[10 11 12 13 14 15 16 17 18 19 20 21 22 23 24 25 26 27 28 29 30 31 32 33\n",
      " 34 35 36 37 38 39 40 41 42 43 44 45 46 47 48]\n"
     ]
    }
   ],
   "source": [
    "import numpy as np\n",
    "v = np.arange(10,49)\n",
    "print(v)"
   ]
  },
  {
   "cell_type": "markdown",
   "metadata": {
    "id": "z-8hfELHzSV-"
   },
   "source": [
    "#### Ques 2.  Reverse a vector (first element becomes last)\n"
   ]
  },
  {
   "cell_type": "code",
   "execution_count": 5,
   "metadata": {},
   "outputs": [
    {
     "name": "stdout",
     "output_type": "stream",
     "text": [
      "[48 47 46 45 44 43 42 41 40 39 38 37 36 35 34 33 32 31 30 29 28 27 26 25\n",
      " 24 23 22 21 20 19 18 17 16 15 14 13 12 11 10]\n"
     ]
    }
   ],
   "source": [
    "import numpy as np\n",
    "v = np.arange(10,49)\n",
    "v = v[::-1]\n",
    "print(v)"
   ]
  },
  {
   "cell_type": "markdown",
   "metadata": {
    "id": "ndjau2Y4zSxv"
   },
   "source": [
    "####  Ques 3.Create a 3x3 identity matrix"
   ]
  },
  {
   "cell_type": "code",
   "execution_count": 12,
   "metadata": {},
   "outputs": [
    {
     "name": "stdout",
     "output_type": "stream",
     "text": [
      "[[1. 0. 0.]\n",
      " [0. 1. 0.]\n",
      " [0. 0. 1.]]\n"
     ]
    }
   ],
   "source": [
    "import numpy as np\n",
    "x = np.eye(3)\n",
    "print(x)"
   ]
  },
  {
   "cell_type": "markdown",
   "metadata": {
    "id": "Qvzt4eyZzmDE"
   },
   "source": [
    "#### Ques 4. Create a 10x10 array with random values and find the minimum and maximum values"
   ]
  },
  {
   "cell_type": "code",
   "execution_count": 18,
   "metadata": {},
   "outputs": [
    {
     "name": "stdout",
     "output_type": "stream",
     "text": [
      "[[0.44134385 0.98191912 0.52937793 0.93595713 0.71660636 0.62446145\n",
      "  0.24981238 0.94265259 0.37643525 0.8681789 ]\n",
      " [0.14733923 0.18873419 0.87985181 0.30941211 0.24087091 0.50122453\n",
      "  0.51010285 0.74353346 0.11787587 0.24837649]\n",
      " [0.88232938 0.23380604 0.32880916 0.3845032  0.51794619 0.8340679\n",
      "  0.66400893 0.7817383  0.99732755 0.15713869]\n",
      " [0.06206898 0.84237939 0.99561423 0.63888598 0.70264002 0.57252298\n",
      "  0.1294049  0.88560079 0.95257496 0.64032739]\n",
      " [0.30010528 0.23827214 0.00956591 0.84674976 0.96294418 0.38796585\n",
      "  0.31545104 0.29338391 0.9253576  0.42098959]\n",
      " [0.64830326 0.33546991 0.11462771 0.06099573 0.75548617 0.31871263\n",
      "  0.36508455 0.68273737 0.79170784 0.46786255]\n",
      " [0.79770807 0.4826613  0.89890004 0.44043408 0.48106666 0.69111981\n",
      "  0.50483869 0.03208825 0.95221187 0.53589629]\n",
      " [0.69360362 0.42087388 0.40766554 0.28892505 0.48708463 0.31930228\n",
      "  0.36371767 0.25726617 0.36238775 0.9428872 ]\n",
      " [0.08389994 0.35012616 0.89996023 0.04966525 0.88688222 0.19952153\n",
      "  0.12818176 0.92097072 0.51855846 0.39775643]\n",
      " [0.94498044 0.38895612 0.33955536 0.85866529 0.98588051 0.66430466\n",
      "  0.64889264 0.2729443  0.57053065 0.58337625]]\n"
     ]
    }
   ],
   "source": [
    "import numpy as np\n",
    "x = np.random.random((10,10))\n",
    "print(x)"
   ]
  },
  {
   "cell_type": "markdown",
   "metadata": {
    "id": "zfO9PIQ50GFa"
   },
   "source": [
    "#### Ques 5.What is the result of the following expression?\n",
    "#### 0 * np.nan\n",
    "#### np.nan == np.nan\n",
    "#### np.inf > np.nan\n",
    "#### np.nan - np.nan\n",
    "#### np.nan in set([np.nan])\n",
    "#### 0.3 == 3 * 0.1\n"
   ]
  },
  {
   "cell_type": "code",
   "execution_count": 19,
   "metadata": {},
   "outputs": [
    {
     "data": {
      "text/plain": [
       "False"
      ]
     },
     "execution_count": 19,
     "metadata": {},
     "output_type": "execute_result"
    }
   ],
   "source": [
    "0 * np.nan\n",
    "\n",
    "np.nan == np.nan\n",
    "\n",
    "np.inf > np.nan\n",
    "\n",
    "np.nan - np.nan\n",
    "\n",
    "np.nan in set([np.nan])\n",
    "\n",
    "0.3 == 3 * 0.1"
   ]
  },
  {
   "cell_type": "markdown",
   "metadata": {
    "id": "r6PwGiWN0weZ"
   },
   "source": [
    "#### Ques 6.How to sum a small array faster than np.sum? "
   ]
  },
  {
   "cell_type": "code",
   "execution_count": 21,
   "metadata": {},
   "outputs": [
    {
     "data": {
      "text/plain": [
       "45"
      ]
     },
     "execution_count": 21,
     "metadata": {},
     "output_type": "execute_result"
    }
   ],
   "source": [
    "Z = np.arange(10)\n",
    "np.add.reduce(Z)"
   ]
  },
  {
   "cell_type": "markdown",
   "metadata": {
    "id": "QrLawZlu1z6o"
   },
   "source": [
    "#### Ques 7.How to find the closest value (to a given scalar) in a vector?"
   ]
  },
  {
   "cell_type": "code",
   "execution_count": 32,
   "metadata": {},
   "outputs": [
    {
     "name": "stdout",
     "output_type": "stream",
     "text": [
      "86\n"
     ]
    }
   ],
   "source": [
    "Z = np.arange(100)\n",
    "v = np.random.uniform(0,100)\n",
    "index = (np.abs(Z-v)).argmin()\n",
    "print(Z[index])"
   ]
  }
 ],
 "metadata": {
  "colab": {
   "name": "Assignment_6.ipynb",
   "provenance": []
  },
  "kernelspec": {
   "display_name": "Python 3",
   "language": "python",
   "name": "python3"
  },
  "language_info": {
   "codemirror_mode": {
    "name": "ipython",
    "version": 3
   },
   "file_extension": ".py",
   "mimetype": "text/x-python",
   "name": "python",
   "nbconvert_exporter": "python",
   "pygments_lexer": "ipython3",
   "version": "3.8.8"
  }
 },
 "nbformat": 4,
 "nbformat_minor": 1
}
